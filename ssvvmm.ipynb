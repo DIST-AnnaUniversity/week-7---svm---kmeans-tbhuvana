{
  "nbformat": 4,
  "nbformat_minor": 0,
  "metadata": {
    "colab": {
      "provenance": []
    },
    "kernelspec": {
      "name": "python3",
      "display_name": "Python 3"
    },
    "language_info": {
      "name": "python"
    }
  },
  "cells": [
    {
      "cell_type": "code",
      "execution_count": null,
      "metadata": {
        "colab": {
          "base_uri": "https://localhost:8080/"
        },
        "id": "Qu-iYMqpBoxu",
        "outputId": "1db97491-c387-4bcd-dab6-ff30d21ef8a5"
      },
      "outputs": [
        {
          "output_type": "stream",
          "name": "stdout",
          "text": [
            "0.9880952380952381\n"
          ]
        }
      ],
      "source": [
        "from seaborn import load_dataset\n",
        "import pandas as pd\n",
        "from sklearn.svm import SVC\n",
        "from sklearn.model_selection import train_test_split\n",
        "from sklearn.preprocessing import OneHotEncoder\n",
        "from sklearn.compose import make_column_transformer\n",
        "from sklearn.preprocessing import StandardScaler\n",
        "from sklearn.metrics import accuracy_score\n",
        "\n",
        "# Load the data and create training and testing data\n",
        "df = load_dataset('penguins')\n",
        "df = df.dropna()\n",
        "X = df.drop(columns = ['species'])\n",
        "y = df['species']\n",
        "\n",
        "X_train, X_test, y_train, y_test = train_test_split(X, y, random_state = 100)\n",
        "\n",
        "# Create a transformer object\n",
        "column_transformer = make_column_transformer(\n",
        "    (OneHotEncoder(), ['sex', 'island']),\n",
        "    (StandardScaler(), ['bill_depth_mm', 'bill_length_mm', 'flipper_length_mm', 'body_mass_g']),\n",
        "    remainder='passthrough')\n",
        "\n",
        "# Transform the training features\n",
        "X_train = column_transformer.fit_transform(X_train)\n",
        "X_train = pd.DataFrame(data=X_train, columns=column_transformer.get_feature_names_out())\n",
        "\n",
        "# Building and fit the classifier\n",
        "clf = SVC(kernel='rbf', gamma=0.01, C=1000)\n",
        "clf.fit(X_train, y_train)\n",
        "\n",
        "# Transform the training data\n",
        "X_test = column_transformer.transform(X_test)\n",
        "X_test = pd.DataFrame(data=X_test, columns=column_transformer.get_feature_names_out())\n",
        "\n",
        "# Make predictions and check the accuracy\n",
        "predictions = clf.predict(X_test)\n",
        "print(accuracy_score(y_test, predictions))\n"
      ]
    },
    {
      "cell_type": "code",
      "source": [
        "# Passing in our own data:\n",
        "penny = [{\n",
        "    'sex': 'Female', \n",
        "    'island': 'Torgersen', \n",
        "    'bill_depth_mm': 23.3, \n",
        "    'bill_length_mm': 43.5, \n",
        "    'flipper_length_mm': 190, \n",
        "    'body_mass_g': 4123\n",
        "}]\n",
        "\n",
        "penny = pd.DataFrame(penny)\n",
        "df_transformed = column_transformer.transform(penny)\n",
        "df_transformed = pd.DataFrame(df_transformed, columns=column_transformer.get_feature_names_out())\n",
        "predicted_species = clf.predict(df_transformed)\n",
        "print(predicted_species)\n",
        "\n",
        "\n"
      ],
      "metadata": {
        "colab": {
          "base_uri": "https://localhost:8080/"
        },
        "id": "-w-ipmHwEXLs",
        "outputId": "2bed961f-078b-4f63-ab52-4d4cc7d06c33"
      },
      "execution_count": null,
      "outputs": [
        {
          "output_type": "stream",
          "name": "stdout",
          "text": [
            "['Adelie']\n"
          ]
        }
      ]
    }
  ]
}